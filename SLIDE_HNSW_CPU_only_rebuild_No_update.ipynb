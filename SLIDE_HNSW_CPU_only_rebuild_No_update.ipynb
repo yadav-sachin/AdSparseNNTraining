{
  "nbformat": 4,
  "nbformat_minor": 0,
  "metadata": {
    "colab": {
      "name": "SLIDE HNSW CPU only rebuild No update",
      "provenance": [],
      "collapsed_sections": []
    },
    "kernelspec": {
      "display_name": "Python 3",
      "name": "python3"
    },
    "language_info": {
      "name": "python"
    },
    "accelerator": "GPU"
  },
  "cells": [
    {
      "cell_type": "code",
      "metadata": {
        "id": "8Y1mWZ23p0ZH"
      },
      "source": [
        "import torch\n",
        "import numpy as np\n",
        "import math"
      ],
      "execution_count": 1,
      "outputs": []
    },
    {
      "cell_type": "markdown",
      "metadata": {
        "id": "we_QnPWm08TG"
      },
      "source": [
        "## Config and Data Generators"
      ]
    },
    {
      "cell_type": "code",
      "metadata": {
        "id": "8PX-7rQ70tqi"
      },
      "source": [
        "class config:\n",
        "    data_path_train = 'dataset/Amazon/amazon_train.txt'\n",
        "    data_path_test = 'dataset/Amazon/amazon_test.txt'\n",
        "    GPUs = True\n",
        "    lr = 0.0001\n",
        "    max_l2 = 6\n",
        "    sparsity = 0.00001\n",
        "    feature_dim = 135909\n",
        "    n_classes = 670091\n",
        "    n_train = 490449\n",
        "    n_test = 153025\n",
        "    n_epochs = 20\n",
        "    batch_size = 256\n",
        "    test_batch_size = 256\n",
        "    hidden_dim = 128\n",
        "    log_file = 'log_amz_torch_latest'"
      ],
      "execution_count": 2,
      "outputs": []
    },
    {
      "cell_type": "code",
      "metadata": {
        "id": "TAMHRfqh510j"
      },
      "source": [
        "def get_default_device():\n",
        "    # Pick GPU if available else CPU\n",
        "    if torch.cuda.is_available() and config.GPUs:\n",
        "        return torch.device(\"cuda\")\n",
        "    else:\n",
        "        return torch.device(\"cpu\")"
      ],
      "execution_count": 3,
      "outputs": []
    },
    {
      "cell_type": "code",
      "metadata": {
        "id": "YbtqZbtW_xOP"
      },
      "source": [
        "import os\n",
        "# If the runtime is connected to Colab Hosted runtime\n",
        "if \"COLAB_GPU\" in os.environ:\n",
        "    config.data_path_train = '/content/drive/MyDrive/Colab Datasets/Amazon/amazon_train.txt'\n",
        "    config.data_path_test = '/content/drive/MyDrive/Colab Datasets/Amazon/amazon_test.txt'\n",
        "    from google.colab import drive\n",
        "    drive.mount('/content/drive')"
      ],
      "execution_count": 4,
      "outputs": []
    },
    {
      "cell_type": "code",
      "metadata": {
        "id": "dPZfSX0V54xL"
      },
      "source": [
        "device = get_default_device()"
      ],
      "execution_count": 5,
      "outputs": []
    },
    {
      "cell_type": "code",
      "metadata": {
        "id": "B5juvuhd6FoP",
        "colab": {
          "base_uri": "https://localhost:8080/"
        },
        "outputId": "fad7551d-db8d-4ba2-8ab0-cb3f5778d5f3"
      },
      "source": [
        "device"
      ],
      "execution_count": 6,
      "outputs": [
        {
          "output_type": "execute_result",
          "data": {
            "text/plain": [
              "device(type='cuda')"
            ]
          },
          "metadata": {},
          "execution_count": 6
        }
      ]
    },
    {
      "cell_type": "code",
      "metadata": {
        "id": "DhLi42LY6qdt"
      },
      "source": [
        "device = torch.device(\"cuda:0\")"
      ],
      "execution_count": 7,
      "outputs": []
    },
    {
      "cell_type": "code",
      "metadata": {
        "id": "DjnG_cqM6XdB"
      },
      "source": [
        "def to_device(data, device):\n",
        "    if isinstance(data, (list, tuple)):\n",
        "        return [to_device(x, device) for x in data]\n",
        "    return data.to(device, non_blocking = True)"
      ],
      "execution_count": 8,
      "outputs": []
    },
    {
      "cell_type": "code",
      "metadata": {
        "id": "eau2_7Lq8VGx"
      },
      "source": [
        "batch_size = config.batch_size\n",
        "n_classes = config.n_classes"
      ],
      "execution_count": 9,
      "outputs": []
    },
    {
      "cell_type": "code",
      "metadata": {
        "id": "CEW8Ds7EDDFU"
      },
      "source": [
        "from itertools import islice"
      ],
      "execution_count": 10,
      "outputs": []
    },
    {
      "cell_type": "code",
      "metadata": {
        "id": "5aTiYD3sAQdX"
      },
      "source": [
        "def data_generator(file_name, batch_size, n_classes):\n",
        "    while True:\n",
        "        lines = []\n",
        "        with open(file_name,'r',encoding='utf-8') as f:\n",
        "            header = f.readline()  # ignore the header\n",
        "            while True:\n",
        "                temp = len(lines)\n",
        "                lines += list(islice(f,batch_size-temp))\n",
        "                if len(lines)!=batch_size:\n",
        "                    break\n",
        "                idxs_x, idxs_y = [], []\n",
        "                vals = []\n",
        "                y_idxs = []\n",
        "                labels_batch = []\n",
        "                y_batch = torch.zeros([batch_size, n_classes], dtype = torch.float32, device = device)\n",
        "                count = 0\n",
        "                for line in lines:\n",
        "                    itms = line.strip().split(' ')\n",
        "                    y_idxs = [int(itm) for itm in itms[0].split(',')]\n",
        "                    labels_batch.append(y_idxs)\n",
        "                    y_batch[count, y_idxs] = 1.0/len(y_idxs)\n",
        "                    temp_idxs_y = [int(itm.split(':')[0]) for itm in itms[1:]]\n",
        "                    temp_idxs_y.append(config.feature_dim)\n",
        "                    idxs_y += temp_idxs_y\n",
        "                    idxs_x += [count] * len(temp_idxs_y)\n",
        "                    vals += [float(itm.split(':')[1]) for itm in itms[1:]]\n",
        "                    vals.append(1.0)\n",
        "                    count += 1\n",
        "                lines = []\n",
        "                yield (idxs_x, idxs_y, vals, y_batch, labels_batch)"
      ],
      "execution_count": 11,
      "outputs": []
    },
    {
      "cell_type": "code",
      "metadata": {
        "id": "4X2NyAMF0e2o"
      },
      "source": [
        "def data_generator_tst(file_name, batch_size, n_classes):\n",
        "    while True:\n",
        "        lines = []\n",
        "        with open(file_name,'r',encoding='utf-8') as f:\n",
        "            header = f.readline()  # ignore the header\n",
        "            while True:\n",
        "                temp = len(lines)\n",
        "                lines += list(islice(f,batch_size-temp))\n",
        "                if len(lines)!=batch_size:\n",
        "                    break\n",
        "                idxs_x, idxs_y = [], []\n",
        "                vals = []\n",
        "                labels_batch = []\n",
        "                count = 0\n",
        "                for line in lines:\n",
        "                    itms = line.strip().split(' ')\n",
        "                    y_idxs = [int(itm) for itm in itms[0].split(',')]\n",
        "                    labels_batch.append(y_idxs)\n",
        "                    temp_idxs_y = [int(itm.split(':')[0]) for itm in itms[1:]]\n",
        "                    temp_idxs_y.append(config.feature_dim)\n",
        "                    idxs_y += temp_idxs_y\n",
        "                    idxs_x += [count] * len(temp_idxs_y)\n",
        "                    vals += [float(itm.split(':')[1]) for itm in itms[1:]]\n",
        "                    vals.append(1.0)\n",
        "                    count += 1\n",
        "                lines = []\n",
        "                yield (idxs_x, idxs_y, vals, labels_batch)"
      ],
      "execution_count": 12,
      "outputs": []
    },
    {
      "cell_type": "markdown",
      "metadata": {
        "id": "LU3aozEL1VX3"
      },
      "source": [
        "## Torch Training"
      ]
    },
    {
      "cell_type": "code",
      "metadata": {
        "id": "lIArsURGcWaM"
      },
      "source": [
        "!pip install hnswlib -q"
      ],
      "execution_count": 13,
      "outputs": []
    },
    {
      "cell_type": "code",
      "metadata": {
        "id": "e6mlBOpb2Z8o"
      },
      "source": [
        "import torch\n",
        "import time\n",
        "import numpy as np\n",
        "import hnswlib\n",
        "import math\n",
        "import torch.nn as nn"
      ],
      "execution_count": 14,
      "outputs": []
    },
    {
      "cell_type": "code",
      "metadata": {
        "id": "eM3OSJ-N3neL"
      },
      "source": [
        "n_epochs = config.n_epochs\n",
        "n_train = config.n_train\n",
        "n_test = config.n_test\n",
        "n_check = 50\n",
        "steps_per_epoch = n_train // batch_size\n",
        "n_steps = config.n_epochs * steps_per_epoch"
      ],
      "execution_count": 15,
      "outputs": []
    },
    {
      "cell_type": "code",
      "metadata": {
        "id": "r4pgS52YNOMI"
      },
      "source": [
        "train_data_generator = data_generator(config.data_path_train, batch_size = config.batch_size, n_classes = config.n_classes)"
      ],
      "execution_count": 16,
      "outputs": []
    },
    {
      "cell_type": "code",
      "metadata": {
        "id": "KdptGXt6Np7z"
      },
      "source": [
        "W1 = torch.randn(config.feature_dim + 1, config.hidden_dim, requires_grad = False)\n",
        "W2 = torch.randn(config.hidden_dim + 1, config.n_classes, requires_grad = False)"
      ],
      "execution_count": 17,
      "outputs": []
    },
    {
      "cell_type": "code",
      "metadata": {
        "id": "dAN-HLCR4OEy"
      },
      "source": [
        "val = 2.0/math.sqrt(config.hidden_dim + 1 + config.n_classes)\n",
        "a = - 2 * val\n",
        "b = 2 * val\n",
        "W1 = nn.init.trunc_normal_(W1, a = a, b = b)\n",
        "W2 = nn.init.trunc_normal_(W2, a = a, b = b)"
      ],
      "execution_count": 18,
      "outputs": []
    },
    {
      "cell_type": "code",
      "metadata": {
        "id": "pS98V4pN79EL"
      },
      "source": [
        "config.max_l2 = 3 * 11 * torch.max(torch.abs(W2)).item()"
      ],
      "execution_count": 19,
      "outputs": []
    },
    {
      "cell_type": "code",
      "metadata": {
        "colab": {
          "base_uri": "https://localhost:8080/"
        },
        "id": "d7ze-NLY7-J-",
        "outputId": "11b299ba-c51a-495c-9610-1fe44fed3c64"
      },
      "source": [
        "config.max_l2"
      ],
      "execution_count": 20,
      "outputs": [
        {
          "output_type": "execute_result",
          "data": {
            "text/plain": [
              "0.161237183958292"
            ]
          },
          "metadata": {},
          "execution_count": 20
        }
      ]
    },
    {
      "cell_type": "code",
      "metadata": {
        "id": "7beVlwrt7f6V"
      },
      "source": [
        "with torch.no_grad():\n",
        "    (W1, W2) = to_device((W1, W2), device)"
      ],
      "execution_count": 21,
      "outputs": []
    },
    {
      "cell_type": "code",
      "metadata": {
        "id": "2A81MnxLhSMB"
      },
      "source": [
        "W1.grad = W1.new_zeros(W1.shape)\n",
        "W2.grad = W2.new_zeros(W2.shape)"
      ],
      "execution_count": 22,
      "outputs": []
    },
    {
      "cell_type": "code",
      "metadata": {
        "colab": {
          "base_uri": "https://localhost:8080/"
        },
        "id": "7IyfN8YqUaL1",
        "outputId": "1d98d7de-13d1-4ce3-e32d-1b538a86ef13"
      },
      "source": [
        "W1.grad"
      ],
      "execution_count": 23,
      "outputs": [
        {
          "output_type": "execute_result",
          "data": {
            "text/plain": [
              "tensor([[0., 0., 0.,  ..., 0., 0., 0.],\n",
              "        [0., 0., 0.,  ..., 0., 0., 0.],\n",
              "        [0., 0., 0.,  ..., 0., 0., 0.],\n",
              "        ...,\n",
              "        [0., 0., 0.,  ..., 0., 0., 0.],\n",
              "        [0., 0., 0.,  ..., 0., 0., 0.],\n",
              "        [0., 0., 0.,  ..., 0., 0., 0.]], device='cuda:0')"
            ]
          },
          "metadata": {},
          "execution_count": 23
        }
      ]
    },
    {
      "cell_type": "code",
      "metadata": {
        "colab": {
          "base_uri": "https://localhost:8080/"
        },
        "id": "Az35K3wbGT1Q",
        "outputId": "7212bf38-ad4f-45c4-c473-7385f1aa2051"
      },
      "source": [
        "print(W1.requires_grad, W2.requires_grad)"
      ],
      "execution_count": 24,
      "outputs": [
        {
          "output_type": "stream",
          "name": "stdout",
          "text": [
            "False False\n"
          ]
        }
      ]
    },
    {
      "cell_type": "code",
      "metadata": {
        "id": "5mvPD3GrQ9wP"
      },
      "source": [
        "adam_optim = torch.optim.Adam(params = (W1, W2), lr = config.lr)\n",
        "\n",
        "log_softmax = torch.nn.LogSoftmax(dim = 1)\n",
        "add_unity_col = torch.nn.ConstantPad1d((0, 1), value = 1.0)\n",
        "add_zero_col = torch.nn.ConstantPad1d((0, 1), value = 0.0)"
      ],
      "execution_count": 25,
      "outputs": []
    },
    {
      "cell_type": "code",
      "metadata": {
        "id": "eB2LjPpN2Tlg"
      },
      "source": [
        "dim = (config.hidden_dim + 1) + 1\n",
        "max_elements = int(2 * config.n_classes)\n",
        "M = 24 \n",
        "ef_construction = 100\n",
        "ef_search = int(2 * config.sparsity * config.n_classes)"
      ],
      "execution_count": 26,
      "outputs": []
    },
    {
      "cell_type": "code",
      "metadata": {
        "id": "oyxPItjNG3We"
      },
      "source": [
        "def add_items_to_hnsw_index(index, data, ids):\n",
        "    with torch.no_grad():\n",
        "        temp_items = torch.zeros(size = (data.shape[1], index.dim))\n",
        "        temp_items[:,:-1] = data.T / config.max_l2\n",
        "        temp_items[:, -1] = torch.sqrt(1.00 - torch.sum(temp_items.pow(2), dim = 1))\n",
        "    \n",
        "        index.add_items(data = temp_items, ids = ids)\n",
        "  \n",
        "def query_items_from_hnsw_index(index, query, k):\n",
        "    with torch.no_grad():\n",
        "        aug_query = add_zero_col(query)\n",
        "        aug_query = torch.nn.functional.normalize(aug_query, p = 2, dim = 1)\n",
        "        return index.knn_query(data = aug_query, k = k)"
      ],
      "execution_count": 27,
      "outputs": []
    },
    {
      "cell_type": "code",
      "metadata": {
        "id": "1qabImyO2FOU"
      },
      "source": [
        "def rebuild_index(data, ids):\n",
        "    global last_index_saved\n",
        "    index = hnswlib.Index(space = \"ip\", dim = dim)\n",
        "    index.init_index(max_elements = int(2 * config.n_classes), M = M, ef_construction = ef_construction)\n",
        "    index.set_ef(ef = ef_search)\n",
        "    config.max_l2 = 3 * 11 * torch.max(torch.abs(W2)).item()\n",
        "    add_items_to_hnsw_index(index, data, ids)\n",
        "    last_index_saved = np.arange(config.n_classes)\n",
        "    print(\"Index Rebuilt\", config.max_l2)\n",
        "    return index"
      ],
      "execution_count": 28,
      "outputs": []
    },
    {
      "cell_type": "code",
      "metadata": {
        "id": "i2sRxrzqU29a",
        "colab": {
          "base_uri": "https://localhost:8080/"
        },
        "outputId": "46631d79-05b8-48f4-9511-457244906fde"
      },
      "source": [
        "begin_time = time.time()\n",
        "index = rebuild_index(W2, np.arange(config.n_classes))\n",
        "print(time.time() - begin_time)"
      ],
      "execution_count": 29,
      "outputs": [
        {
          "output_type": "stream",
          "name": "stdout",
          "text": [
            "Index Rebuilt 0.161237183958292\n",
            "43.12212252616882\n"
          ]
        }
      ]
    },
    {
      "cell_type": "code",
      "metadata": {
        "id": "dOa7iuvc7a1R"
      },
      "source": [
        "init_rebuild_freq = 50\n",
        "decay_rate = 0.003"
      ],
      "execution_count": 30,
      "outputs": []
    },
    {
      "cell_type": "code",
      "metadata": {
        "id": "9KeWp9NjBjSE"
      },
      "source": [
        "rebuild_freq = init_rebuild_freq"
      ],
      "execution_count": 31,
      "outputs": []
    },
    {
      "cell_type": "code",
      "metadata": {
        "id": "BreamNILIuwp"
      },
      "source": [
        "# rebuild_frequencies = [50, 70, 100, 150, 180, 200, 220, 250, 3]"
      ],
      "execution_count": null,
      "outputs": []
    },
    {
      "cell_type": "code",
      "metadata": {
        "id": "tWdoPqAv-ppw"
      },
      "source": [
        "last_rebuild_step = 0"
      ],
      "execution_count": 32,
      "outputs": []
    },
    {
      "cell_type": "code",
      "metadata": {
        "id": "UC4RicTaVkOS"
      },
      "source": [
        "last_index_saved = np.arange(config.n_classes)\n",
        "error_instances = 0"
      ],
      "execution_count": 33,
      "outputs": []
    },
    {
      "cell_type": "code",
      "metadata": {
        "id": "nv8D-vFYjYPi"
      },
      "source": [
        "def fit(train_dg, step):\n",
        "    with torch.no_grad():\n",
        "        global last_index_saved, index, error_instances, last_rebuild_step, rebuild_freq\n",
        "        try:\n",
        "            adam_optim.zero_grad()\n",
        "            idxs_x, idxs_y, vals, Y, labels = next(train_dg)\n",
        "            \n",
        "            # Feed Forward\n",
        "            input = to_device(torch.sparse_coo_tensor([idxs_x, idxs_y], vals, size = (batch_size, config.feature_dim + 1)), device)\n",
        "            A1 = torch.sparse.mm(input, W1)\n",
        "            A1 = add_unity_col(A1)\n",
        "            Z1 = torch.nn.functional.relu(A1)\n",
        "            # ## HNSW layer2 indices query logic\n",
        "            layer2_idxs, _ = query_items_from_hnsw_index(index, query = Z1.cpu(), k = int(config.sparsity * config.n_classes))\n",
        "            layer2_idxs = layer2_idxs.flatten() % config.n_classes\n",
        "            labels = np.array([x for sub in labels for x in sub])\n",
        "            layer2_idxs = np.union1d(layer2_idxs, labels).astype(np.int32)\n",
        "\n",
        "            #  Sparse Feed Forward\n",
        "            A2 = Z1 @ W2[:, layer2_idxs]\n",
        "            P = log_softmax(A2)\n",
        "            L = -P * Y[:, layer2_idxs]\n",
        "            L = torch.mean(torch.sum(L, dim = 1))\n",
        "\n",
        "            # Sparse Back Propagation\n",
        "            PL = torch.exp(P)\n",
        "            temp_B2_grad = (PL - Y[:, layer2_idxs])\n",
        "            W2.grad[:, layer2_idxs] = Z1.T @ temp_B2_grad\n",
        "            temp_B1_grad = temp_B2_grad @ W2[:, layer2_idxs].T\n",
        "            temp_B1_grad[A1 < 0] = 0\n",
        "            W1.grad = torch.sparse.mm(input.t(), temp_B1_grad[:, :-1])  \n",
        "\n",
        "            adam_optim.step()\n",
        "\n",
        "            if (step - last_rebuild_step) >= rebuild_freq:\n",
        "                index = rebuild_index(W2, np.arange(config.n_classes))\n",
        "                last_rebuild_step = step\n",
        "                rebuild_freq = int(init_rebuild_freq * math.exp(decay_rate * step))\n",
        "                print(\"New rebuild frequency: \", rebuild_freq)\n",
        "\n",
        "        except Exception as e:\n",
        "            print(e)\n",
        "            error_instances += 1\n",
        "            if error_instances == 3:\n",
        "                index = rebuild_index(W2, np.arange(config.n_classes))\n",
        "        finally:\n",
        "            return 1"
      ],
      "execution_count": 34,
      "outputs": []
    },
    {
      "cell_type": "code",
      "metadata": {
        "id": "E09gs-KakLL2"
      },
      "source": [
        "def evaluate(n_steps, test_dg):\n",
        "    accuracies = []\n",
        "    for h in range(n_steps):\n",
        "        idxs_x, idxs_y, vals, Y = next(test_dg)\n",
        "        \n",
        "        with torch.no_grad():\n",
        "            input = to_device(torch.sparse_coo_tensor([idxs_x, idxs_y], vals, size = (config.test_batch_size, config.feature_dim + 1)), device)\n",
        "            A1 = torch.sparse.mm(input, W1)\n",
        "            A1 = add_unity_col(A1)\n",
        "            Z1 = torch.nn.functional.relu(A1)\n",
        "            A2 = Z1 @ W2\n",
        "                \n",
        "            _, preds = torch.max(A2, dim = 1)\n",
        "            num_correct = 0\n",
        "            for j in range(A2.shape[0]):\n",
        "                if len(np.intersect1d(preds[j].cpu(), Y[j])) > 0:\n",
        "                    num_correct += 1\n",
        "\n",
        "            accuracies.append(num_correct / config.test_batch_size)\n",
        "    return np.mean(accuracies)"
      ],
      "execution_count": 35,
      "outputs": []
    },
    {
      "cell_type": "code",
      "metadata": {
        "id": "u8YCOEZGVtKm"
      },
      "source": [
        "total_time = 0\n",
        "begin_time = time.time()\n",
        "with open(config.log_file, 'a') as out:\n",
        "    losses = []\n",
        "    for step in range(n_steps):\n",
        "        if step % 25 == 0:\n",
        "            total_time += time.time() - begin_time\n",
        "            n_steps_val = n_test//batch_size\n",
        "            test_data_generator = data_generator_tst(config.data_path_test, config.test_batch_size, config.n_classes)\n",
        "            accuracy = evaluate(20, test_data_generator)\n",
        "            print('Step:{}  Total_Time:{}  Test_acc:{}'.format(step, total_time, accuracy), file = out)\n",
        "            print('Step:{}  Total_Time:{}  Test_acc:{}'.format(step, total_time, accuracy))\n",
        "            begin_time = time.time()\n",
        "        loss = fit(train_data_generator, step)\n",
        "        losses.append(loss)"
      ],
      "execution_count": null,
      "outputs": []
    }
  ]
}