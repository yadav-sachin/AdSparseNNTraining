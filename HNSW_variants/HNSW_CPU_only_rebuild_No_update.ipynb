{
  "cells": [
    {
      "cell_type": "code",
      "execution_count": 1,
      "metadata": {
        "id": "8Y1mWZ23p0ZH"
      },
      "outputs": [],
      "source": [
        "import torch\n",
        "import numpy as np\n",
        "import math"
      ]
    },
    {
      "cell_type": "markdown",
      "metadata": {
        "id": "we_QnPWm08TG"
      },
      "source": [
        "## Config and Data Generators"
      ]
    },
    {
      "cell_type": "code",
      "execution_count": 2,
      "metadata": {
        "id": "8PX-7rQ70tqi"
      },
      "outputs": [],
      "source": [
        "class config:\n",
        "    data_path_train = 'dataset/Amazon/amazon_train.txt'\n",
        "    data_path_test = 'dataset/Amazon/amazon_test.txt'\n",
        "    GPUs = True\n",
        "    lr = 0.0001\n",
        "    max_l2 = 6\n",
        "    sparsity = 0.00001\n",
        "    feature_dim = 135909\n",
        "    n_classes = 670091\n",
        "    n_train = 490449\n",
        "    n_test = 153025\n",
        "    n_epochs = 20\n",
        "    batch_size = 256\n",
        "    test_batch_size = 256\n",
        "    hidden_dim = 128\n",
        "    log_file = 'log_amz_torch_latest'"
      ]
    },
    {
      "cell_type": "code",
      "execution_count": 3,
      "metadata": {
        "id": "TAMHRfqh510j"
      },
      "outputs": [],
      "source": [
        "def get_default_device():\n",
        "    # Pick GPU if available else CPU\n",
        "    if torch.cuda.is_available() and config.GPUs:\n",
        "        return torch.device(\"cuda\")\n",
        "    else:\n",
        "        return torch.device(\"cpu\")"
      ]
    },
    {
      "cell_type": "code",
      "execution_count": 4,
      "metadata": {
        "id": "YbtqZbtW_xOP"
      },
      "outputs": [],
      "source": [
        "import os\n",
        "# If the runtime is connected to Colab Hosted runtime\n",
        "if \"COLAB_GPU\" in os.environ:\n",
        "    config.data_path_train = '/content/drive/MyDrive/Colab Datasets/Amazon/amazon_train.txt'\n",
        "    config.data_path_test = '/content/drive/MyDrive/Colab Datasets/Amazon/amazon_test.txt'\n",
        "    from google.colab import drive\n",
        "    drive.mount('/content/drive')"
      ]
    },
    {
      "cell_type": "code",
      "execution_count": 5,
      "metadata": {
        "id": "dPZfSX0V54xL"
      },
      "outputs": [],
      "source": [
        "device = get_default_device()"
      ]
    },
    {
      "cell_type": "code",
      "execution_count": 6,
      "metadata": {
        "colab": {
          "base_uri": "https://localhost:8080/"
        },
        "id": "B5juvuhd6FoP",
        "outputId": "32620c98-39eb-4d01-fe36-45f46693853e"
      },
      "outputs": [
        {
          "data": {
            "text/plain": [
              "device(type='cuda')"
            ]
          },
          "execution_count": 6,
          "metadata": {},
          "output_type": "execute_result"
        }
      ],
      "source": [
        "device"
      ]
    },
    {
      "cell_type": "code",
      "execution_count": 7,
      "metadata": {
        "id": "DhLi42LY6qdt"
      },
      "outputs": [],
      "source": [
        "device = torch.device(\"cuda:0\")"
      ]
    },
    {
      "cell_type": "code",
      "execution_count": 8,
      "metadata": {
        "id": "DjnG_cqM6XdB"
      },
      "outputs": [],
      "source": [
        "def to_device(data, device):\n",
        "    if isinstance(data, (list, tuple)):\n",
        "        return [to_device(x, device) for x in data]\n",
        "    return data.to(device, non_blocking = True)"
      ]
    },
    {
      "cell_type": "code",
      "execution_count": 9,
      "metadata": {
        "id": "eau2_7Lq8VGx"
      },
      "outputs": [],
      "source": [
        "batch_size = config.batch_size\n",
        "n_classes = config.n_classes"
      ]
    },
    {
      "cell_type": "code",
      "execution_count": 10,
      "metadata": {
        "id": "CEW8Ds7EDDFU"
      },
      "outputs": [],
      "source": [
        "from itertools import islice"
      ]
    },
    {
      "cell_type": "code",
      "execution_count": 11,
      "metadata": {
        "id": "5aTiYD3sAQdX"
      },
      "outputs": [],
      "source": [
        "def data_generator(file_name, batch_size, n_classes):\n",
        "    while True:\n",
        "        lines = []\n",
        "        with open(file_name,'r',encoding='utf-8') as f:\n",
        "            header = f.readline()  # ignore the header\n",
        "            while True:\n",
        "                temp = len(lines)\n",
        "                lines += list(islice(f,batch_size-temp))\n",
        "                if len(lines)!=batch_size:\n",
        "                    break\n",
        "                idxs_x, idxs_y = [], []\n",
        "                vals = []\n",
        "                y_idxs = []\n",
        "                labels_batch = []\n",
        "                y_batch = torch.zeros([batch_size, n_classes], dtype = torch.float32, device = device)\n",
        "                count = 0\n",
        "                for line in lines:\n",
        "                    itms = line.strip().split(' ')\n",
        "                    y_idxs = [int(itm) for itm in itms[0].split(',')]\n",
        "                    labels_batch.append(y_idxs)\n",
        "                    y_batch[count, y_idxs] = 1.0/len(y_idxs)\n",
        "                    temp_idxs_y = [int(itm.split(':')[0]) for itm in itms[1:]]\n",
        "                    temp_idxs_y.append(config.feature_dim)\n",
        "                    idxs_y += temp_idxs_y\n",
        "                    idxs_x += [count] * len(temp_idxs_y)\n",
        "                    vals += [float(itm.split(':')[1]) for itm in itms[1:]]\n",
        "                    vals.append(1.0)\n",
        "                    count += 1\n",
        "                lines = []\n",
        "                yield (idxs_x, idxs_y, vals, y_batch, labels_batch)"
      ]
    },
    {
      "cell_type": "code",
      "execution_count": 12,
      "metadata": {
        "id": "4X2NyAMF0e2o"
      },
      "outputs": [],
      "source": [
        "def data_generator_tst(file_name, batch_size, n_classes):\n",
        "    while True:\n",
        "        lines = []\n",
        "        with open(file_name,'r',encoding='utf-8') as f:\n",
        "            header = f.readline()  # ignore the header\n",
        "            while True:\n",
        "                temp = len(lines)\n",
        "                lines += list(islice(f,batch_size-temp))\n",
        "                if len(lines)!=batch_size:\n",
        "                    break\n",
        "                idxs_x, idxs_y = [], []\n",
        "                vals = []\n",
        "                labels_batch = []\n",
        "                count = 0\n",
        "                for line in lines:\n",
        "                    itms = line.strip().split(' ')\n",
        "                    y_idxs = [int(itm) for itm in itms[0].split(',')]\n",
        "                    labels_batch.append(y_idxs)\n",
        "                    temp_idxs_y = [int(itm.split(':')[0]) for itm in itms[1:]]\n",
        "                    temp_idxs_y.append(config.feature_dim)\n",
        "                    idxs_y += temp_idxs_y\n",
        "                    idxs_x += [count] * len(temp_idxs_y)\n",
        "                    vals += [float(itm.split(':')[1]) for itm in itms[1:]]\n",
        "                    vals.append(1.0)\n",
        "                    count += 1\n",
        "                lines = []\n",
        "                yield (idxs_x, idxs_y, vals, labels_batch)"
      ]
    },
    {
      "cell_type": "markdown",
      "metadata": {
        "id": "LU3aozEL1VX3"
      },
      "source": [
        "## Torch Training"
      ]
    },
    {
      "cell_type": "code",
      "execution_count": 13,
      "metadata": {
        "id": "lIArsURGcWaM"
      },
      "outputs": [],
      "source": [
        "!pip install hnswlib -q"
      ]
    },
    {
      "cell_type": "code",
      "execution_count": 14,
      "metadata": {
        "id": "e6mlBOpb2Z8o"
      },
      "outputs": [],
      "source": [
        "import torch\n",
        "import time\n",
        "import numpy as np\n",
        "import hnswlib\n",
        "import math\n",
        "import torch.nn as nn"
      ]
    },
    {
      "cell_type": "code",
      "execution_count": 15,
      "metadata": {
        "id": "eM3OSJ-N3neL"
      },
      "outputs": [],
      "source": [
        "n_epochs = config.n_epochs\n",
        "n_train = config.n_train\n",
        "n_test = config.n_test\n",
        "n_check = 50\n",
        "steps_per_epoch = n_train // batch_size\n",
        "n_steps = config.n_epochs * steps_per_epoch"
      ]
    },
    {
      "cell_type": "code",
      "execution_count": 16,
      "metadata": {
        "id": "r4pgS52YNOMI"
      },
      "outputs": [],
      "source": [
        "train_data_generator = data_generator(config.data_path_train, batch_size = config.batch_size, n_classes = config.n_classes)"
      ]
    },
    {
      "cell_type": "code",
      "execution_count": 17,
      "metadata": {
        "id": "KdptGXt6Np7z"
      },
      "outputs": [],
      "source": [
        "W1 = torch.randn(config.feature_dim + 1, config.hidden_dim, requires_grad = False)\n",
        "W2 = torch.randn(config.hidden_dim + 1, config.n_classes, requires_grad = False)"
      ]
    },
    {
      "cell_type": "code",
      "execution_count": 18,
      "metadata": {
        "id": "dAN-HLCR4OEy"
      },
      "outputs": [],
      "source": [
        "val = 2.0/math.sqrt(config.hidden_dim + 1 + config.n_classes)\n",
        "a = - 2 * val\n",
        "b = 2 * val\n",
        "W1 = nn.init.trunc_normal_(W1, a = a, b = b)\n",
        "W2 = nn.init.trunc_normal_(W2, a = a, b = b)"
      ]
    },
    {
      "cell_type": "code",
      "execution_count": 19,
      "metadata": {
        "id": "pS98V4pN79EL"
      },
      "outputs": [],
      "source": [
        "config.max_l2 = 3 * 11 * torch.max(torch.abs(W2)).item()"
      ]
    },
    {
      "cell_type": "code",
      "execution_count": 20,
      "metadata": {
        "colab": {
          "base_uri": "https://localhost:8080/"
        },
        "id": "d7ze-NLY7-J-",
        "outputId": "b4731c5e-ac37-4bd2-ae60-85e97ad45ce1"
      },
      "outputs": [
        {
          "data": {
            "text/plain": [
              "0.161237183958292"
            ]
          },
          "execution_count": 20,
          "metadata": {},
          "output_type": "execute_result"
        }
      ],
      "source": [
        "config.max_l2"
      ]
    },
    {
      "cell_type": "code",
      "execution_count": 21,
      "metadata": {
        "id": "7beVlwrt7f6V"
      },
      "outputs": [],
      "source": [
        "with torch.no_grad():\n",
        "    (W1, W2) = to_device((W1, W2), device)"
      ]
    },
    {
      "cell_type": "code",
      "execution_count": 22,
      "metadata": {
        "id": "2A81MnxLhSMB"
      },
      "outputs": [],
      "source": [
        "W1.grad = W1.new_zeros(W1.shape)\n",
        "W2.grad = W2.new_zeros(W2.shape)"
      ]
    },
    {
      "cell_type": "code",
      "execution_count": 23,
      "metadata": {
        "colab": {
          "base_uri": "https://localhost:8080/"
        },
        "id": "7IyfN8YqUaL1",
        "outputId": "0a393479-e3e6-46f6-8565-585ed1558b80"
      },
      "outputs": [
        {
          "data": {
            "text/plain": [
              "tensor([[0., 0., 0.,  ..., 0., 0., 0.],\n",
              "        [0., 0., 0.,  ..., 0., 0., 0.],\n",
              "        [0., 0., 0.,  ..., 0., 0., 0.],\n",
              "        ...,\n",
              "        [0., 0., 0.,  ..., 0., 0., 0.],\n",
              "        [0., 0., 0.,  ..., 0., 0., 0.],\n",
              "        [0., 0., 0.,  ..., 0., 0., 0.]], device='cuda:0')"
            ]
          },
          "execution_count": 23,
          "metadata": {},
          "output_type": "execute_result"
        }
      ],
      "source": [
        "W1.grad"
      ]
    },
    {
      "cell_type": "code",
      "execution_count": 24,
      "metadata": {
        "colab": {
          "base_uri": "https://localhost:8080/"
        },
        "id": "Az35K3wbGT1Q",
        "outputId": "b5f87acf-02e7-4d80-ab01-0dbf9582125f"
      },
      "outputs": [
        {
          "name": "stdout",
          "output_type": "stream",
          "text": [
            "False False\n"
          ]
        }
      ],
      "source": [
        "print(W1.requires_grad, W2.requires_grad)"
      ]
    },
    {
      "cell_type": "code",
      "execution_count": 25,
      "metadata": {
        "id": "5mvPD3GrQ9wP"
      },
      "outputs": [],
      "source": [
        "adam_optim = torch.optim.Adam(params = (W1, W2), lr = config.lr)\n",
        "\n",
        "log_softmax = torch.nn.LogSoftmax(dim = 1)\n",
        "add_unity_col = torch.nn.ConstantPad1d((0, 1), value = 1.0)\n",
        "add_zero_col = torch.nn.ConstantPad1d((0, 1), value = 0.0)"
      ]
    },
    {
      "cell_type": "code",
      "execution_count": 26,
      "metadata": {
        "id": "eB2LjPpN2Tlg"
      },
      "outputs": [],
      "source": [
        "dim = (config.hidden_dim + 1) + 1\n",
        "max_elements = int(2 * config.n_classes)\n",
        "M = 32 \n",
        "ef_construction = 100\n",
        "ef_search = int(2 * config.sparsity * config.n_classes)"
      ]
    },
    {
      "cell_type": "code",
      "execution_count": 27,
      "metadata": {
        "id": "oyxPItjNG3We"
      },
      "outputs": [],
      "source": [
        "def add_items_to_hnsw_index(index, data, ids):\n",
        "    with torch.no_grad():\n",
        "        temp_items = torch.zeros(size = (data.shape[1], index.dim))\n",
        "        temp_items[:,:-1] = data.T / config.max_l2\n",
        "        temp_items[:, -1] = torch.sqrt(1.00 - torch.sum(temp_items.pow(2), dim = 1))\n",
        "    \n",
        "        index.add_items(data = temp_items, ids = ids)\n",
        "  \n",
        "def query_items_from_hnsw_index(index, query, k):\n",
        "    with torch.no_grad():\n",
        "        aug_query = add_zero_col(query)\n",
        "        aug_query = torch.nn.functional.normalize(aug_query, p = 2, dim = 1)\n",
        "        return index.knn_query(data = aug_query, k = k)"
      ]
    },
    {
      "cell_type": "code",
      "execution_count": 28,
      "metadata": {
        "id": "1qabImyO2FOU"
      },
      "outputs": [],
      "source": [
        "def rebuild_index(data, ids):\n",
        "    global last_index_saved\n",
        "    index = hnswlib.Index(space = \"ip\", dim = dim)\n",
        "    index.init_index(max_elements = int(2 * config.n_classes), M = M, ef_construction = ef_construction)\n",
        "    index.set_ef(ef = ef_search)\n",
        "    config.max_l2 = 3 * 11 * torch.max(torch.abs(W2)).item()\n",
        "    add_items_to_hnsw_index(index, data, ids)\n",
        "    last_index_saved = np.arange(config.n_classes)\n",
        "    print(\"Index Rebuilt\", config.max_l2)\n",
        "    return index"
      ]
    },
    {
      "cell_type": "code",
      "execution_count": 29,
      "metadata": {
        "colab": {
          "base_uri": "https://localhost:8080/"
        },
        "id": "i2sRxrzqU29a",
        "outputId": "ca0f9064-44c0-4f18-9beb-f26949959a44"
      },
      "outputs": [
        {
          "name": "stdout",
          "output_type": "stream",
          "text": [
            "Index Rebuilt 0.161237183958292\n",
            "41.45541524887085\n"
          ]
        }
      ],
      "source": [
        "begin_time = time.time()\n",
        "index = rebuild_index(W2, np.arange(config.n_classes))\n",
        "print(time.time() - begin_time)"
      ]
    },
    {
      "cell_type": "code",
      "execution_count": 30,
      "metadata": {
        "id": "dOa7iuvc7a1R"
      },
      "outputs": [],
      "source": [
        "rebuild_delay = 50\n",
        "decay_rate = 1.15\n",
        "steps_since_rebuild = 0"
      ]
    },
    {
      "cell_type": "code",
      "execution_count": 31,
      "metadata": {
        "id": "UC4RicTaVkOS"
      },
      "outputs": [],
      "source": [
        "last_index_saved = np.arange(config.n_classes)\n",
        "error_instances = 0"
      ]
    },
    {
      "cell_type": "code",
      "execution_count": 32,
      "metadata": {
        "id": "nv8D-vFYjYPi"
      },
      "outputs": [],
      "source": [
        "def fit(train_dg, step):\n",
        "    with torch.no_grad():\n",
        "        global last_index_saved, index, error_instances, last_rebuild_step, rebuild_delay, decay_rate, steps_since_rebuild\n",
        "        try:\n",
        "            adam_optim.zero_grad()\n",
        "            idxs_x, idxs_y, vals, Y, labels = next(train_dg)\n",
        "            \n",
        "            # Feed Forward\n",
        "            input = to_device(torch.sparse_coo_tensor([idxs_x, idxs_y], vals, size = (batch_size, config.feature_dim + 1)), device)\n",
        "            A1 = torch.sparse.mm(input, W1)\n",
        "            A1 = add_unity_col(A1)\n",
        "            Z1 = torch.nn.functional.relu(A1)\n",
        "            # ## HNSW layer2 indices query logic\n",
        "            layer2_idxs, _ = query_items_from_hnsw_index(index, query = Z1.cpu(), k = int(config.sparsity * config.n_classes))\n",
        "            layer2_idxs = layer2_idxs.flatten() % config.n_classes\n",
        "            labels = np.array([x for sub in labels for x in sub])\n",
        "            layer2_idxs = np.union1d(layer2_idxs, labels).astype(np.int32)\n",
        "\n",
        "            #  Sparse Feed Forward\n",
        "            A2 = Z1 @ W2[:, layer2_idxs]\n",
        "            P = log_softmax(A2)\n",
        "            L = -P * Y[:, layer2_idxs]\n",
        "            L = torch.mean(torch.sum(L, dim = 1))\n",
        "\n",
        "            # Sparse Back Propagation\n",
        "            PL = torch.exp(P)\n",
        "            temp_B2_grad = (PL - Y[:, layer2_idxs])\n",
        "            W2.grad[:, layer2_idxs] = Z1.T @ temp_B2_grad\n",
        "            temp_B1_grad = temp_B2_grad @ W2[:, layer2_idxs].T\n",
        "            temp_B1_grad[A1 < 0] = 0\n",
        "            W1.grad = torch.sparse.mm(input.t(), temp_B1_grad[:, :-1])  \n",
        "\n",
        "            adam_optim.step()\n",
        "\n",
        "            steps_since_rebuild += 1\n",
        "            if steps_since_rebuild >= rebuild_delay:\n",
        "                index = rebuild_index(W2, np.arange(config.n_classes))\n",
        "                steps_since_rebuild = 0\n",
        "                rebuild_delay = int( rebuild_delay * decay_rate )\n",
        "                print(\"New rebuild frequency: \", rebuild_delay)\n",
        "\n",
        "        except Exception as e:\n",
        "            print(e)\n",
        "            error_instances += 1\n",
        "            if error_instances == 3:\n",
        "                index = rebuild_index(W2, np.arange(config.n_classes))\n",
        "        finally:\n",
        "            return 1"
      ]
    },
    {
      "cell_type": "code",
      "execution_count": 33,
      "metadata": {
        "id": "E09gs-KakLL2"
      },
      "outputs": [],
      "source": [
        "def evaluate(n_steps, test_dg):\n",
        "    accuracies = []\n",
        "    for h in range(n_steps):\n",
        "        idxs_x, idxs_y, vals, Y = next(test_dg)\n",
        "        \n",
        "        with torch.no_grad():\n",
        "            input = to_device(torch.sparse_coo_tensor([idxs_x, idxs_y], vals, size = (config.test_batch_size, config.feature_dim + 1)), device)\n",
        "            A1 = torch.sparse.mm(input, W1)\n",
        "            A1 = add_unity_col(A1)\n",
        "            Z1 = torch.nn.functional.relu(A1)\n",
        "            A2 = Z1 @ W2\n",
        "                \n",
        "            _, preds = torch.max(A2, dim = 1)\n",
        "            num_correct = 0\n",
        "            for j in range(A2.shape[0]):\n",
        "                if len(np.intersect1d(preds[j].cpu(), Y[j])) > 0:\n",
        "                    num_correct += 1\n",
        "\n",
        "            accuracies.append(num_correct / config.test_batch_size)\n",
        "    return np.mean(accuracies)"
      ]
    },
    {
      "cell_type": "code",
      "execution_count": null,
      "metadata": {
        "id": "u8YCOEZGVtKm"
      },
      "outputs": [],
      "source": [
        "total_time = 0\n",
        "begin_time = time.time()\n",
        "with open(config.log_file, 'a') as out:\n",
        "    losses = []\n",
        "    for step in range(n_steps):\n",
        "        if step % 25 == 0:\n",
        "            total_time += time.time() - begin_time\n",
        "            n_steps_val = n_test//batch_size\n",
        "            test_data_generator = data_generator_tst(config.data_path_test, config.test_batch_size, config.n_classes)\n",
        "            accuracy = evaluate(20, test_data_generator)\n",
        "            print('Step:{}  Total_Time:{}  Test_acc:{}'.format(step, total_time, accuracy), file = out)\n",
        "            print('Step:{}  Total_Time:{}  Test_acc:{}'.format(step, total_time, accuracy))\n",
        "            begin_time = time.time()\n",
        "        loss = fit(train_data_generator, step)\n",
        "        losses.append(loss)"
      ]
    }
  ],
  "metadata": {
    "accelerator": "GPU",
    "colab": {
      "collapsed_sections": [],
      "name": "SLIDE HNSW CPU only rebuild No update",
      "provenance": []
    },
    "kernelspec": {
      "display_name": "Python 3",
      "name": "python3"
    },
    "language_info": {
      "name": "python"
    }
  },
  "nbformat": 4,
  "nbformat_minor": 0
}
