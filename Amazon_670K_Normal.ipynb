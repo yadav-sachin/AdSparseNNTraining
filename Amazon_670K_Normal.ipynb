{
  "cells": [
    {
      "cell_type": "code",
      "execution_count": null,
      "metadata": {
        "id": "8Y1mWZ23p0ZH"
      },
      "outputs": [],
      "source": [
        "import torch\n",
        "import numpy as np\n",
        "import sys"
      ]
    },
    {
      "cell_type": "markdown",
      "metadata": {
        "id": "we_QnPWm08TG"
      },
      "source": [
        "## Config and Data Generators"
      ]
    },
    {
      "cell_type": "code",
      "execution_count": null,
      "metadata": {
        "id": "8PX-7rQ70tqi"
      },
      "outputs": [],
      "source": [
        "class config:\n",
        "    data_path_train = 'dataset/Amazon/amazon_train.txt'\n",
        "    data_path_test = 'dataset/Amazon/amazon_test.txt'\n",
        "    GPUs = True\n",
        "    num_threads = 44 # Only used when GPUs is empty string\n",
        "    lr = 0.0001\n",
        "    sparsity = 0.005\n",
        "    feature_dim = 135909\n",
        "    n_classes = 670091\n",
        "    n_train = 490449\n",
        "    n_test = 153025\n",
        "    n_epochs = 20\n",
        "    batch_size = 256\n",
        "    test_batch_size = 256\n",
        "    hidden_dim = 128\n",
        "    log_file = 'log_amz_torch_full_backward'"
      ]
    },
    {
      "cell_type": "code",
      "execution_count": null,
      "metadata": {
        "id": "TAMHRfqh510j"
      },
      "outputs": [],
      "source": [
        "def get_default_device():\n",
        "    # Pick GPU if available else CPU\n",
        "    if torch.cuda.is_available() and config.GPUs:\n",
        "        return torch.device(\"cuda\")\n",
        "    else:\n",
        "        return torch.device(\"cpu\")"
      ]
    },
    {
      "cell_type": "code",
      "execution_count": null,
      "metadata": {
        "id": "YbtqZbtW_xOP"
      },
      "outputs": [],
      "source": [
        "import os\n",
        "# If the runtime is connected to Colab Hosted runtime\n",
        "if \"COLAB_GPU\" in os.environ:\n",
        "    config.data_path_train = '/content/drive/MyDrive/Colab Datasets/Amazon/amazon_train.txt'\n",
        "    config.data_path_test = '/content/drive/MyDrive/Colab Datasets/Amazon/amazon_test.txt'\n",
        "    from google.colab import drive\n",
        "    drive.mount('/content/drive')"
      ]
    },
    {
      "cell_type": "code",
      "execution_count": null,
      "metadata": {
        "id": "dPZfSX0V54xL"
      },
      "outputs": [],
      "source": [
        "device = get_default_device()"
      ]
    },
    {
      "cell_type": "code",
      "execution_count": null,
      "metadata": {
        "colab": {
          "base_uri": "https://localhost:8080/"
        },
        "id": "B5juvuhd6FoP",
        "outputId": "7f7dfc92-8017-46a3-bc2d-3c6dbff6d118"
      },
      "outputs": [
        {
          "data": {
            "text/plain": [
              "device(type='cuda')"
            ]
          },
          "execution_count": 35,
          "metadata": {},
          "output_type": "execute_result"
        }
      ],
      "source": [
        "device"
      ]
    },
    {
      "cell_type": "code",
      "execution_count": null,
      "metadata": {
        "id": "DjnG_cqM6XdB"
      },
      "outputs": [],
      "source": [
        "def to_device(data, device):\n",
        "    # Move tensor(s) to chosen device\n",
        "    if isinstance(data, (list, tuple)):\n",
        "        return [to_device(x, device) for x in data]\n",
        "    return data.to(device, non_blocking = True)"
      ]
    },
    {
      "cell_type": "code",
      "execution_count": null,
      "metadata": {
        "id": "jp0IDt5oBhR_"
      },
      "outputs": [],
      "source": [
        "# ! cat /content/drive/MyDrive/Colab\\ Datasets/Amazon/amazon_train_sample.txt > sample.txt"
      ]
    },
    {
      "cell_type": "code",
      "execution_count": null,
      "metadata": {
        "id": "eau2_7Lq8VGx"
      },
      "outputs": [],
      "source": [
        "batch_size = config.batch_size\n",
        "n_classes = config.n_classes"
      ]
    },
    {
      "cell_type": "code",
      "execution_count": null,
      "metadata": {
        "id": "5aTiYD3sAQdX"
      },
      "outputs": [],
      "source": [
        "def data_generator(file_name, batch_size, n_classes):\n",
        "    with open(file_name, \"r\", encoding = \"utf-8\") as txt_file:\n",
        "        header = txt_file.readline() # ignore the header\n",
        "        while True:\n",
        "            vals = []\n",
        "            idxs_x, idxs_y = [], []\n",
        "            y_batch = torch.zeros([batch_size, n_classes], dtype = torch.float32)\n",
        "            y_batch_idxs_x = []\n",
        "            y_batch_idxs_y = []\n",
        "            y_batch_vals = []\n",
        "            labels_batch = []\n",
        "            # Readlines until EOF or count reaches batch_size\n",
        "            count = 0\n",
        "            while True:\n",
        "                line = txt_file.readline().strip()\n",
        "                if not line:\n",
        "                    return\n",
        "                # Fill the y-values\n",
        "                labels = list( map(int, line.split(' ')[0].split(',')) )\n",
        "                y_batch_idxs_x += [count] * len(labels)\n",
        "                y_batch_idxs_y += labels\n",
        "                y_batch_vals += [1 / len(labels)] * len(labels)\n",
        "                labels_batch.append(labels)\n",
        "                # Get the x-idxs and x-vals\n",
        "                n_idxs = len(line.split(' ')[1:])\n",
        "                idxs_x += [count] * (n_idxs)\n",
        "                idxs_y += [int(itm.split(':')[0]) for itm in line.split(' ')[1:]]\n",
        "                vals += [float(itm.split(':')[1]) for itm in line.split(' ')[1:]]\n",
        "\n",
        "                count += 1\n",
        "                if count == batch_size:\n",
        "                    break\n",
        "            if count < batch_size:\n",
        "                return\n",
        "            y_batch = y_batch.to_sparse()\n",
        "            yield (idxs_x, idxs_y, vals, y_batch_idxs_x, y_batch_idxs_y, y_batch_vals, labels_batch)"
      ]
    },
    {
      "cell_type": "code",
      "execution_count": null,
      "metadata": {
        "id": "4X2NyAMF0e2o"
      },
      "outputs": [],
      "source": [
        "def data_generator_tst(file_name, batch_size, n_classes):\n",
        "    with open(file_name, \"r\", encoding = \"utf-8\") as txt_file:\n",
        "        header = txt_file.readline() # ignore the header\n",
        "        vals = []\n",
        "        idxs_x, idxs_y = [], []\n",
        "        labels_batch = []\n",
        "        # Readlines until EOF or count reaches batch_size\n",
        "        count = 0\n",
        "        while True:\n",
        "            line = txt_file.readline().strip()\n",
        "            if not line:\n",
        "                break\n",
        "            labels = list( map(int, line.split(' ')[0].split(',')) )\n",
        "            labels_batch.append(labels)\n",
        "            n_idxs = len(line.split(' ')[1:])\n",
        "            idxs_x += [count] * (n_idxs)\n",
        "            idxs_y += [int(itm.split(':')[0]) for itm in line.split(' ')[1:]]\n",
        "            vals += [float(itm.split(':')[1]) for itm in line.split(' ')[1:]]\n",
        "\n",
        "            count += 1\n",
        "            if count == batch_size:\n",
        "                break\n",
        "        if count < batch_size:\n",
        "            return\n",
        "        yield (idxs_x, idxs_y, vals, labels_batch)"
      ]
    },
    {
      "cell_type": "markdown",
      "metadata": {
        "id": "LU3aozEL1VX3"
      },
      "source": [
        "## Torch Training"
      ]
    },
    {
      "cell_type": "code",
      "execution_count": null,
      "metadata": {
        "id": "lIArsURGcWaM"
      },
      "outputs": [],
      "source": [
        "# !pip install hnswlib -q"
      ]
    },
    {
      "cell_type": "code",
      "execution_count": null,
      "metadata": {
        "id": "e6mlBOpb2Z8o"
      },
      "outputs": [],
      "source": [
        "import torch\n",
        "import time\n",
        "import numpy as np\n",
        "# import hnswlib\n",
        "import math\n",
        "import torch.nn as nn"
      ]
    },
    {
      "cell_type": "code",
      "execution_count": null,
      "metadata": {
        "id": "6cSQBoGW28Hh"
      },
      "outputs": [],
      "source": [
        "train_data_generator = data_generator(config.data_path_train, batch_size = config.batch_size, n_classes = config.n_classes)"
      ]
    },
    {
      "cell_type": "code",
      "execution_count": null,
      "metadata": {
        "id": "eM3OSJ-N3neL"
      },
      "outputs": [],
      "source": [
        "n_epochs = config.n_epochs\n",
        "n_train = config.n_train\n",
        "n_test = config.n_test\n",
        "n_check = 50\n",
        "steps_per_epoch = n_train // batch_size\n",
        "n_steps = config.n_epochs * steps_per_epoch"
      ]
    },
    {
      "cell_type": "code",
      "execution_count": null,
      "metadata": {
        "id": "r4pgS52YNOMI"
      },
      "outputs": [],
      "source": [
        "train_data_generator = data_generator(config.data_path_train, batch_size = config.batch_size, n_classes = config.n_classes)"
      ]
    },
    {
      "cell_type": "code",
      "execution_count": null,
      "metadata": {
        "id": "KdptGXt6Np7z"
      },
      "outputs": [],
      "source": [
        "W1 = torch.randn(config.feature_dim, config.hidden_dim, requires_grad = True)\n",
        "B1 = torch.randn(config.hidden_dim, requires_grad = True)\n",
        "\n",
        "W2 = torch.randn(config.hidden_dim, config.n_classes, requires_grad = True)\n",
        "B2 = torch.randn(config.n_classes, requires_grad = True)"
      ]
    },
    {
      "cell_type": "code",
      "execution_count": null,
      "metadata": {
        "id": "DSe_WYJoPONX"
      },
      "outputs": [],
      "source": [
        "W1 = nn.init.trunc_normal_(W1, std = 2.0/math.sqrt(config.feature_dim + config.hidden_dim))\n",
        "B1 = nn.init.trunc_normal_(B1, std = 2.0/math.sqrt(config.feature_dim + config.hidden_dim))\n",
        "W2 = nn.init.trunc_normal_(W2, std = 2.0/math.sqrt(config.hidden_dim + config.n_classes))\n",
        "B2 = nn.init.trunc_normal_(B2, std = 2.0/math.sqrt(config.hidden_dim + config.n_classes))"
      ]
    },
    {
      "cell_type": "code",
      "execution_count": null,
      "metadata": {
        "id": "7beVlwrt7f6V"
      },
      "outputs": [],
      "source": [
        "with torch.no_grad():\n",
        "    (W1, W2) = to_device((W1, W2), device)\n",
        "    (B1, B2) = to_device((B1, B2), device)\n",
        "W1.requires_grad = True\n",
        "W2.requires_grad = True\n",
        "B1.requires_grad = True\n",
        "B2.requires_grad = True"
      ]
    },
    {
      "cell_type": "code",
      "execution_count": null,
      "metadata": {
        "id": "2A81MnxLhSMB"
      },
      "outputs": [],
      "source": [
        "# W1.grad = W1.new_zeros(W1.shape)\n",
        "# W2.grad = W2.new_zeros(W2.shape)"
      ]
    },
    {
      "cell_type": "code",
      "execution_count": null,
      "metadata": {
        "id": "7IyfN8YqUaL1"
      },
      "outputs": [],
      "source": [
        "W1.grad"
      ]
    },
    {
      "cell_type": "code",
      "execution_count": null,
      "metadata": {
        "colab": {
          "base_uri": "https://localhost:8080/"
        },
        "id": "Az35K3wbGT1Q",
        "outputId": "7a759cde-35de-4c39-afd5-a2a948b0ff8e"
      },
      "outputs": [
        {
          "name": "stdout",
          "output_type": "stream",
          "text": [
            "True True\n"
          ]
        }
      ],
      "source": [
        "print(W1.requires_grad, W2.requires_grad)"
      ]
    },
    {
      "cell_type": "code",
      "execution_count": null,
      "metadata": {
        "id": "5mvPD3GrQ9wP"
      },
      "outputs": [],
      "source": [
        "adam_optim = torch.optim.Adam(params = (W1, W2, B1, B2), lr = config.lr)\n",
        "\n",
        "log_softmax = torch.nn.LogSoftmax(dim = 1)\n",
        "add_unity_col = torch.nn.ConstantPad1d((0, 1), value = 1.0)\n",
        "add_zero_col = torch.nn.ConstantPad1d((0, 1), value = 0.0)"
      ]
    },
    {
      "cell_type": "code",
      "execution_count": null,
      "metadata": {
        "id": "nv8D-vFYjYPi"
      },
      "outputs": [],
      "source": [
        "def fit(train_dg):\n",
        "    adam_optim.zero_grad()\n",
        "    idxs_x, idxs_y, vals, Y, labels = next(train_dg)\n",
        "    \n",
        "    # Feed Forward\n",
        "    input = to_device(torch.sparse_coo_tensor([idxs_x, idxs_y], vals, size = (batch_size, config.feature_dim)), device)\n",
        "    A1 = torch.sparse.mm(input, W1) + B1\n",
        "    Z1 = torch.nn.functional.relu(A1)\n",
        "\n",
        "    #  Sparse Feed Forward\n",
        "    A2 = Z1 @ W2 + B2\n",
        "    P = log_softmax(A2)\n",
        "    L = -P * Y\n",
        "    L = torch.mean(torch.sum(L, dim = 1))\n",
        "\n",
        "    # Sparse Back Propagation\n",
        "    L.backward()\n",
        "\n",
        "    # Update Parameters\n",
        "    adam_optim.step()\n",
        "\n",
        "    return L.item()"
      ]
    },
    {
      "cell_type": "code",
      "execution_count": null,
      "metadata": {
        "id": "E09gs-KakLL2"
      },
      "outputs": [],
      "source": [
        "def evaluate(n_steps, test_dg):\n",
        "    accuracies = []\n",
        "    for h in range(n_steps):\n",
        "        idxs_x, idxs_y, vals, Y = next(test_dg)\n",
        "        \n",
        "        with torch.no_grad():\n",
        "            input = to_device(torch.sparse_coo_tensor([idxs_x, idxs_y], vals, size = (config.test_batch_size, config.feature_dim)), device)\n",
        "            A1 = torch.sparse.mm(input, W1) + B1\n",
        "            Z1 = torch.nn.functional.relu(A1)\n",
        "            A2 = Z1 @ W2 + B2\n",
        "                \n",
        "            _, preds = torch.max(A2, dim = 1)\n",
        "            num_correct = 0\n",
        "            for j in range(A2.shape[0]):\n",
        "                if len(np.intersect1d(preds[j].cpu(), Y[j])) > 0:\n",
        "                    num_correct += 1\n",
        "\n",
        "            accuracies.append(num_correct / config.test_batch_size)\n",
        "    return np.mean(accuracies)"
      ]
    },
    {
      "cell_type": "code",
      "execution_count": null,
      "metadata": {
        "colab": {
          "base_uri": "https://localhost:8080/"
        },
        "id": "u8YCOEZGVtKm",
        "outputId": "51750b7a-110a-4ad2-d5a2-996203f9767d"
      },
      "outputs": [],
      "source": [
        "total_time = 0\n",
        "begin_time = time.time()\n",
        "with open(config.log_file, 'a') as out:\n",
        "    losses = []\n",
        "    for step in range(n_steps): \n",
        "        if step % n_check == 0:\n",
        "            total_time += time.time() - begin_time\n",
        "            n_steps_val = n_test//batch_size\n",
        "            test_data_generator = data_generator_tst(config.data_path_test, config.test_batch_size, config.n_classes)\n",
        "            \n",
        "            accuracy = evaluate(20, test_data_generator) #checking precision on 20 test batches\n",
        "            print('Step : {}  Total_Time: {}  Test_acc: {}'.format(step, total_time, accuracy), file = out)\n",
        "            print('Step : {}  Total_Time: {}  Test_acc: {}'.format(step, total_time, accuracy))\n",
        "            begin_time = time.time()\n",
        "        if step % steps_per_epoch == (steps_per_epoch - 1):\n",
        "            total_time += time.time() - begin_time\n",
        "            n_steps_val = n_test//batch_size\n",
        "            test_data_generator = data_generator_tst(config.data_path_test, config.test_batch_size, config.n_classes)\n",
        "            \n",
        "            accuracy = evaluate(n_steps_val, test_data_generator) #checking precision on the complete test data\n",
        "            print('OVERALL Step : {} Total_Time: {} Test_acc: {}'.format(step, total_time, accuracy), file = out)\n",
        "            print('OVERALL Step : {} Total_Time: {} Test_acc: {}'.format(step, total_time, accuracy))\n",
        "            begin_time = time.time()\n",
        "        loss = fit(train_data_generator)\n",
        "        losses.append(loss)"
      ]
    }
  ],
  "metadata": {
    "accelerator": "GPU",
    "colab": {
      "collapsed_sections": [],
      "name": "SLIDE GPU Normal full.ipynb",
      "provenance": []
    },
    "kernelspec": {
      "display_name": "Python 3",
      "name": "python3"
    },
    "language_info": {
      "name": "python"
    }
  },
  "nbformat": 4,
  "nbformat_minor": 0
}
